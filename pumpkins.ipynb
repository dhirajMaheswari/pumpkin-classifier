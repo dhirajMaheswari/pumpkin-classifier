{
 "cells": [
  {
   "cell_type": "code",
   "execution_count": 1,
   "metadata": {},
   "outputs": [
    {
     "name": "stdout",
     "output_type": "stream",
     "text": [
      "City Name             0\n",
      "Type               1712\n",
      "Package               0\n",
      "Variety               5\n",
      "Sub Variety        1461\n",
      "Grade              1757\n",
      "Date                  0\n",
      "Low Price             0\n",
      "High Price            0\n",
      "Mostly Low          103\n",
      "Mostly High         103\n",
      "Origin                3\n",
      "Origin District    1626\n",
      "Item Size           279\n",
      "Color               616\n",
      "Environment        1757\n",
      "Unit of Sale       1595\n",
      "Quality            1757\n",
      "Condition          1757\n",
      "Appearance         1757\n",
      "Storage            1757\n",
      "Crop               1757\n",
      "Repack                0\n",
      "Trans Mode         1757\n",
      "Unnamed: 24        1757\n",
      "Unnamed: 25        1654\n",
      "dtype: int64\n",
      "   City Name       Package      Variety    Origin Item Size   Color\n",
      "2  BALTIMORE  24 inch bins  HOWDEN TYPE  DELAWARE       med  ORANGE\n",
      "3  BALTIMORE  24 inch bins  HOWDEN TYPE  VIRGINIA       med  ORANGE\n",
      "4  BALTIMORE  24 inch bins  HOWDEN TYPE  MARYLAND       lge  ORANGE\n",
      "5  BALTIMORE  24 inch bins  HOWDEN TYPE  MARYLAND       lge  ORANGE\n",
      "6  BALTIMORE  36 inch bins  HOWDEN TYPE  MARYLAND       med  ORANGE\n"
     ]
    }
   ],
   "source": [
    "import pandas as pd\n",
    "import numpy as np\n",
    "\n",
    "full_pumpkins = pd.read_csv('data/US-pumpkins.csv')\n",
    "\n",
    "full_pumpkins.head()\n",
    "print(full_pumpkins.isnull().sum())\n",
    "\n",
    "columns_to_select = ['City Name','Package','Variety', 'Origin','Item Size', 'Color']\n",
    "pumpkins = full_pumpkins.loc[:, columns_to_select]\n",
    "pumpkins.dropna(inplace=True)\n",
    "print(pumpkins.head())"
   ]
  },
  {
   "cell_type": "code",
   "execution_count": 2,
   "metadata": {},
   "outputs": [
    {
     "data": {
      "text/plain": [
       "<seaborn.axisgrid.FacetGrid at 0x258438f4ed0>"
      ]
     },
     "execution_count": 2,
     "metadata": {},
     "output_type": "execute_result"
    },
    {
     "data": {
      "image/png": "[encoded data removed]",
      "text/plain": [
       "<Figure size 609.5x500 with 1 Axes>"
      ]
     },
     "metadata": {},
     "output_type": "display_data"
    }
   ],
   "source": [
    "import seaborn as sns\n",
    "# Specify colors for each values of the hue variable\n",
    "palette = {\n",
    "    'ORANGE': 'orange',\n",
    "    'WHITE': 'gray',\n",
    "}\n",
    "# Plot a bar plot to visualize how many pumpkins of each variety are orange or white\n",
    "sns.catplot(\n",
    "    data=pumpkins, y=\"Variety\", hue=\"Color\", kind=\"count\",\n",
    "    palette=palette, \n",
    ")"
   ]
  },
  {
   "cell_type": "markdown",
   "metadata": {},
   "source": [
    "<h1>Preprocessing</h1>"
   ]
  },
  {
   "cell_type": "markdown",
   "metadata": {},
   "source": [
    "Change the categorical data to numeric ones by using labelencoder\n",
    "<p>पम्पकिनको साइज कतेगोरिकल भएकोले गरदा एस्लाई एन्कोद गर्नुपर्ने हुन्छ। एसो गर्दाखेरी छुटाउने अल्गोरिथ्मले राम्रो गरी काम गर्छ। साइजमा ठुलो-सानो श्रेनी भएकोले ओर्दिनल एन्कोदिङ गर्नु बेस हुन्छ।  </p>"
   ]
  },
  {
   "cell_type": "code",
   "execution_count": 3,
   "metadata": {},
   "outputs": [
    {
     "name": "stdout",
     "output_type": "stream",
     "text": [
      "['med' 'lge' 'sml' 'xlge' 'med-lge' 'jbo' 'exjbo']\n"
     ]
    }
   ],
   "source": [
    "itemsize = pumpkins['Item Size'].unique()\n",
    "print(itemsize)"
   ]
  },
  {
   "cell_type": "code",
   "execution_count": 4,
   "metadata": {},
   "outputs": [
    {
     "name": "stdout",
     "output_type": "stream",
     "text": [
      "[[0.]\n",
      " [1.]\n",
      " [2.]\n",
      " [3.]\n",
      " [4.]\n",
      " [5.]\n",
      " [6.]]\n"
     ]
    }
   ],
   "source": [
    "\n",
    "from sklearn.preprocessing import OrdinalEncoder\n",
    "\n",
    "item_size_categories = ['sml', 'med', 'med-lge', 'lge', 'xlge', 'jbo', 'exjbo']\n",
    "ordinal_features = ['Item Size']\n",
    "ordinal_encoder = OrdinalEncoder(categories=[item_size_categories])\n",
    "\n",
    "item_size_categories_reshaped = np.array(item_size_categories).reshape(-1, 1) # reshape as we have one column\n",
    "\n",
    "# Encode the categories\n",
    "encoded_categories = ordinal_encoder.fit_transform(item_size_categories_reshaped)\n",
    "\n",
    "# Print the encoded categories\n",
    "print(encoded_categories)"
   ]
  },
  {
   "cell_type": "markdown",
   "metadata": {},
   "source": [
    "अब एन्कोदेद इन्फर्मेसनलाई प्रयोग गरेर कोलुम्नलाई कतेगोरिकलबाट नुमेरिकल रुपमा परिवर्तन गर्नुपर्छ। "
   ]
  },
  {
   "cell_type": "code",
   "execution_count": 10,
   "metadata": {},
   "outputs": [],
   "source": [
    "encoded_dict = {value: encoded for value, encoded in zip(pumpkins['Item Size'].unique(), encoded_categories )}\n",
    "\n",
    "# Replace the ordinal values in the DataFrame with their encoded integers\n",
    "pumpkins['item_size_encoded'] = pumpkins['Item Size'].map(encoded_dict)\n",
    "pumpkins['item_size_encoded'] = pumpkins['item_size_encoded'].apply(pd.Series)\n"
   ]
  },
  {
   "cell_type": "code",
   "execution_count": 11,
   "metadata": {},
   "outputs": [
    {
     "data": {
      "text/html": [
       "<div>\n",
       "<style scoped>\n",
       "    .dataframe tbody tr th:only-of-type {\n",
       "        vertical-align: middle;\n",
       "    }\n",
       "\n",
       "    .dataframe tbody tr th {\n",
       "        vertical-align: top;\n",
       "    }\n",
       "\n",
       "    .dataframe thead th {\n",
       "        text-align: right;\n",
       "    }\n",
       "</style>\n",
       "<table border=\"1\" class=\"dataframe\">\n",
       "  <thead>\n",
       "    <tr style=\"text-align: right;\">\n",
       "      <th></th>\n",
       "      <th>City Name</th>\n",
       "      <th>Package</th>\n",
       "      <th>Variety</th>\n",
       "      <th>Origin</th>\n",
       "      <th>Item Size</th>\n",
       "      <th>Color</th>\n",
       "      <th>item_size_encoded</th>\n",
       "    </tr>\n",
       "  </thead>\n",
       "  <tbody>\n",
       "    <tr>\n",
       "      <th>2</th>\n",
       "      <td>1</td>\n",
       "      <td>3</td>\n",
       "      <td>4</td>\n",
       "      <td>3</td>\n",
       "      <td>med</td>\n",
       "      <td>0</td>\n",
       "      <td>0.0</td>\n",
       "    </tr>\n",
       "    <tr>\n",
       "      <th>3</th>\n",
       "      <td>1</td>\n",
       "      <td>3</td>\n",
       "      <td>4</td>\n",
       "      <td>17</td>\n",
       "      <td>med</td>\n",
       "      <td>0</td>\n",
       "      <td>0.0</td>\n",
       "    </tr>\n",
       "  </tbody>\n",
       "</table>\n",
       "</div>"
      ],
      "text/plain": [
       "   City Name  Package  Variety  Origin Item Size  Color  item_size_encoded\n",
       "2          1        3        4       3       med      0                0.0\n",
       "3          1        3        4      17       med      0                0.0"
      ]
     },
     "execution_count": 11,
     "metadata": {},
     "output_type": "execute_result"
    }
   ],
   "source": [
    "pumpkins.head(2)"
   ]
  },
  {
   "cell_type": "code",
   "execution_count": 8,
   "metadata": {},
   "outputs": [],
   "source": [
    "from sklearn.preprocessing import LabelEncoder\n",
    "label_encoder = []\n",
    "# Encode all the other features using label encoding\n",
    "categorical_features = ['City Name', 'Package', 'Variety', 'Origin', 'Color']\n",
    "\n",
    "for c in categorical_features:\n",
    "    label_encoder.append(LabelEncoder())\n",
    "    pumpkins[c] = label_encoder[-1].fit_transform(np.array(pumpkins[c]))\n",
    "    \n"
   ]
  },
  {
   "cell_type": "code",
   "execution_count": 70,
   "metadata": {},
   "outputs": [
    {
     "name": "stdout",
     "output_type": "stream",
     "text": [
      "   City Name  Package  Variety  Origin Item Size  Color item_size_encoded\n",
      "2          1        3        4       3       med      0             [0.0]\n",
      "3          1        3        4      17       med      0             [0.0]\n",
      "4          1        3        4       5       lge      0             [1.0]\n"
     ]
    }
   ],
   "source": [
    "print(pumpkins.head(3))"
   ]
  },
  {
   "cell_type": "code",
   "execution_count": 15,
   "metadata": {},
   "outputs": [],
   "source": [
    "from sklearn.model_selection import train_test_split\n",
    "from sklearn.metrics import confusion_matrix, classification_report, f1_score\n",
    "from sklearn.linear_model import LogisticRegression\n",
    "\n"
   ]
  },
  {
   "cell_type": "markdown",
   "metadata": {},
   "source": [
    "Separate the data for training purposes"
   ]
  },
  {
   "cell_type": "code",
   "execution_count": 12,
   "metadata": {},
   "outputs": [],
   "source": [
    "X = pumpkins[['City Name', 'Package', 'Variety','Origin','item_size_encoded']]\n",
    "# X['item_size_encoded'] = X['item_size_encoded'].apply(pd.Series)\n",
    "y = pumpkins['Color']"
   ]
  },
  {
   "cell_type": "code",
   "execution_count": 13,
   "metadata": {},
   "outputs": [
    {
     "name": "stdout",
     "output_type": "stream",
     "text": [
      "[[ 1.  3.  4.  3.  0.]\n",
      " [ 1.  3.  4. 17.  0.]\n",
      " [ 1.  3.  4.  5.  1.]] [0 0 0]\n"
     ]
    }
   ],
   "source": [
    "X = X.values\n",
    "y = y.values\n",
    "print(X[:3], y[:3])"
   ]
  },
  {
   "cell_type": "code",
   "execution_count": 19,
   "metadata": {},
   "outputs": [
    {
     "name": "stdout",
     "output_type": "stream",
     "text": [
      "Accuracy on train: 0.84\n",
      "Accuracy on test: 0.79 \n"
     ]
    }
   ],
   "source": [
    "X_train, X_test, y_train, y_test = train_test_split(X, y, test_size=0.25, random_state=42) #75% for training, 25% for testing\n",
    "clf_lr = LogisticRegression()\n",
    "clf_lr.fit(X_train, y_train)\n",
    "y_test_pred = clf_lr.predict(X_test)\n",
    "\n",
    "# print(\"Accuracy on train data: \",round(clf_lr.score(X_train, y_train),2))\n",
    "# print(\"Accuracy on test data: \", round(clf_lr.score(X_test, y_test),2))\n",
    "print(f\"Accuracy on train: {clf_lr.score(X_train, y_train):.2f}\\nAccuracy on test: {clf_lr.score(X_test, y_test):.2f} \")"
   ]
  },
  {
   "cell_type": "code",
   "execution_count": 20,
   "metadata": {},
   "outputs": [
    {
     "name": "stdout",
     "output_type": "stream",
     "text": [
      "              precision    recall  f1-score   support\n",
      "\n",
      "           0       0.80      0.98      0.89       200\n",
      "           1       0.00      0.00      0.00        48\n",
      "\n",
      "    accuracy                           0.79       248\n",
      "   macro avg       0.40      0.49      0.44       248\n",
      "weighted avg       0.65      0.79      0.71       248\n",
      "\n",
      "******\n",
      "[[197   3]\n",
      " [ 48   0]]\n",
      "F1 score:  0.0\n"
     ]
    }
   ],
   "source": [
    "print(classification_report(y_test, y_test_pred))\n",
    "\n",
    "print(\"******\")\n",
    "\n",
    "print(confusion_matrix(y_test, y_test_pred))\n",
    "\n",
    "print(\"F1 score: \",f1_score(y_test, y_test_pred))"
   ]
  },
  {
   "cell_type": "code",
   "execution_count": 23,
   "metadata": {},
   "outputs": [
    {
     "name": "stdout",
     "output_type": "stream",
     "text": [
      "[0]\n",
      "Predicted color:  ORANGE\n"
     ]
    }
   ],
   "source": [
    "# predict on one sample\n",
    "spl = X_test[0]\n",
    "spl_pred = clf_lr.predict(spl.reshape(1,-1))\n",
    "print(spl_pred)\n",
    "print(\"Predicted color: \",label_encoder[-1].inverse_transform(spl_pred)[0])"
   ]
  },
  {
   "cell_type": "code",
   "execution_count": 24,
   "metadata": {},
   "outputs": [
    {
     "data": {
      "image/png": "[encoded data removed]",
      "text/plain": [
       "<Figure size 800x600 with 1 Axes>"
      ]
     },
     "metadata": {},
     "output_type": "display_data"
    }
   ],
   "source": [
    "from sklearn.metrics import roc_curve, roc_auc_score\n",
    "import matplotlib.pyplot as plt\n",
    "\n",
    "y_scores = clf_lr.predict_proba(X_test)\n",
    "fpr, tpr, thresholds = roc_curve(y_test, y_scores[:,1])\n",
    "\n",
    "fig = plt.figure(figsize=(8,6))\n",
    "plt.plot([0,1],[0,1], '--')\n",
    "plt.plot(fpr,tpr,'r')\n",
    "plt.xlabel('False Positive Rate')\n",
    "plt.ylabel('True Positive Rate')\n",
    "plt.title('ROC Curve')\n",
    "plt.show()"
   ]
  },
  {
   "cell_type": "code",
   "execution_count": 25,
   "metadata": {},
   "outputs": [
    {
     "name": "stdout",
     "output_type": "stream",
     "text": [
      "0.75484375\n"
     ]
    }
   ],
   "source": [
    "auc = roc_auc_score(y_test,y_scores[:,1])\n",
    "print(auc)"
   ]
  }
 ],
 "metadata": {
  "kernelspec": {
   "display_name": "base",
   "language": "python",
   "name": "python3"
  },
  "language_info": {
   "codemirror_mode": {
    "name": "ipython",
    "version": 3
   },
   "file_extension": ".py",
   "mimetype": "text/x-python",
   "name": "python",
   "nbconvert_exporter": "python",
   "pygments_lexer": "ipython3",
   "version": "3.11.3"
  }
 },
 "nbformat": 4,
 "nbformat_minor": 2
}
